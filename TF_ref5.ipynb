{
  "nbformat": 4,
  "nbformat_minor": 0,
  "metadata": {
    "colab": {
      "name": "TF_ref.ipynb",
      "provenance": [],
      "authorship_tag": "ABX9TyP6DWg2QB4v8cwrN1pJO3SR",
      "include_colab_link": true
    },
    "kernelspec": {
      "name": "python3",
      "display_name": "Python 3"
    },
    "language_info": {
      "name": "python"
    }
  },
  "cells": [
    {
      "cell_type": "markdown",
      "metadata": {
        "id": "view-in-github",
        "colab_type": "text"
      },
      "source": [
        "<a href=\"https://colab.research.google.com/github/pchodon/Amegashita/blob/basecode/TF_ref5.ipynb\" target=\"_parent\"><img src=\"https://colab.research.google.com/assets/colab-badge.svg\" alt=\"Open In Colab\"/></a>"
      ]
    },
    {
      "cell_type": "code",
      "execution_count": 21,
      "metadata": {
        "colab": {
          "base_uri": "https://localhost:8080/"
        },
        "outputId": "c836da39-4182-49b1-9109-7b61be015a4e",
        "id": "Vcepq_EIiCt4"
      },
      "outputs": [
        {
          "output_type": "stream",
          "name": "stdout",
          "text": [
            "[0. 1. 2. 3. 4.]\n",
            "[ 6.  7.  8.  9. 10.]\n",
            "[11. 12. 13. 14. 15.]\n",
            "[15. 16. 17. 18. 19.]\n",
            "[24. 25. 26. 27. 28.]\n",
            "test\n"
          ]
        }
      ],
      "source": [
        "import tensorflow as tf\n",
        "import numpy as np\n",
        "\n",
        "episode = 4 # Episode 10:0,0:10,5:5\n",
        "path = 4    # 0 time / 1 sensor 1 / 2 sensor 2 / 2 learning\n",
        "spike = 10   # 0 & 1 values\n",
        "\n",
        "\n",
        "import tensorflow as tf\n",
        "import numpy as np\n",
        "\n",
        "\n",
        "\n",
        "x1 = tf.zeros([3,2,5])\n",
        "\n",
        "max_loop = tf.shape(x1)[0]\n",
        "\n",
        "max_loop = tf.shape(x1)[0]\n",
        "\n",
        "x1 = tf.TensorArray(dtype=tf.float32, size= max_loop + 1,\n",
        "                                             dynamic_size=False, clear_after_read = False,infer_shape=True)\n",
        "test = [0,0]*5\n",
        "\n",
        "\n",
        "test[0] = tf.Variable(np.array([0, 1, 2, 3, 4], dtype = np.float32))\n",
        "test[1] = tf.Variable(np.array([6,7,8,9,10], dtype = np.float32))\n",
        "test[2] = tf.Variable(np.array([11,12,13,14,15], dtype = np.float32))\n",
        "test[3] = tf.Variable(np.array([15, 16, 17, 18, 19], dtype = np.float32))\n",
        "test[4] = tf.Variable(np.array([20, 21, 22, 23, 24], dtype = np.float32))\n",
        "test[4] = tf.Variable(np.array([24, 25, 26, 27, 28], dtype = np.float32))\n",
        "\n",
        "\n",
        "for count in range(0,1):\n",
        "  for count1 in range(0,5):\n",
        "     x1 = x1.write(count,tf.Variable(tf.Variable(test[count1], dtype = np.float32), dtype = np.float32))\n",
        "     print(x1.read(count,count1).numpy())\n",
        "\n",
        "\n",
        "\n",
        "\n",
        "print(\"test\")\n"
      ]
    }
  ]
}