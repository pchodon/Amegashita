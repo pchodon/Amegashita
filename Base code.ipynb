{
  "nbformat": 4,
  "nbformat_minor": 0,
  "metadata": {
    "colab": {
      "provenance": [],
      "authorship_tag": "ABX9TyN0M1ShHBK50ybJk3sOZZBo",
      "include_colab_link": true
    },
    "kernelspec": {
      "name": "python3",
      "display_name": "Python 3"
    },
    "language_info": {
      "name": "python"
    }
  },
  "cells": [
    {
      "cell_type": "markdown",
      "metadata": {
        "id": "view-in-github",
        "colab_type": "text"
      },
      "source": [
        "<a href=\"https://colab.research.google.com/github/pchodon/Amegashita/blob/Uncertainity/Base%20code.ipynb\" target=\"_parent\"><img src=\"https://colab.research.google.com/assets/colab-badge.svg\" alt=\"Open In Colab\"/></a>"
      ]
    },
    {
      "cell_type": "code",
      "execution_count": null,
      "metadata": {
        "colab": {
          "base_uri": "https://localhost:8080/"
        },
        "id": "eRhaOTz5qZVR",
        "outputId": "925cd11c-14e8-43df-c8b1-3e6679363e63"
      },
      "outputs": [
        {
          "output_type": "stream",
          "name": "stdout",
          "text": [
            "[0.77297702]\n"
          ]
        }
      ],
      "source": [
        "from joblib.numpy_pickle_utils import xrange\n",
        "from numpy import *\n",
        "\n",
        "\n",
        "class NeuralNet(object):\n",
        "\tdef __init__(self):\n",
        "\t\t# Generate random numbers\n",
        "\t\trandom.seed(1)\n",
        "\n",
        "\t\t# Assign random weights to a 3 x 1 matrix,\n",
        "\t\tself.synaptic_weights = 2 * random.random((3, 1)) - 1\n",
        "\n",
        "\t# The Sigmoid function\n",
        "\tdef __sigmoid(self, x):\n",
        "\t\treturn 1 / (1 + exp(-x))\n",
        "\n",
        "\t# The derivative of the Sigmoid function.\n",
        "\t# This is the gradient of the Sigmoid curve.\n",
        "\tdef __sigmoid_derivative(self, x):\n",
        "\t\treturn x * (1 - x)\n",
        "\n",
        "\t# Train the neural network and adjust the weights each time.\n",
        "\tdef train(self, inputs, outputs, training_iterations):\n",
        "\t\tfor iteration in xrange(training_iterations):\n",
        "\t\t\t# Pass the training set through the network.\n",
        "\t\t\toutput = self.learn(inputs)\n",
        "\n",
        "\t\t\t# Calculate the error\n",
        "\t\t\terror = outputs - output\n",
        "\n",
        "\t\t\t# Adjust the weights by a factor\n",
        "\t\t\tfactor = dot(inputs.T, error * self.__sigmoid_derivative(output))\n",
        "\t\t\tself.synaptic_weights += factor\n",
        "\n",
        "\t\t# The neural network thinks.\n",
        "\n",
        "\tdef learn(self, inputs):\n",
        "\t\treturn self.__sigmoid(dot(inputs, self.synaptic_weights))\n",
        "\n",
        "\n",
        "if __name__ == \"__main__\":\n",
        "\t# Initialize\n",
        "\tneural_network = NeuralNet()\n",
        "\n",
        "\t# The training set.\n",
        "\tinputs = array([[0, 1, 1], [1, 0, 0], [1, 0, 1]])\n",
        "\toutputs = array([[1, 0, 1]]).T\n",
        "\n",
        "\t# Train the neural network\n",
        "\tneural_network.train(inputs, outputs, 10000)\n",
        "\n",
        "\t# Test the neural network with a test example.\n",
        "\tprint(neural_network.learn(array([0, 1, 0])))\n",
        " \n",
        "#https://www.geeksforgeeks.org/implementing-ann-training-process-in-python/"
      ]
    },
    {
      "cell_type": "markdown",
      "source": [],
      "metadata": {
        "id": "JurjQPAxufzY"
      }
    }
  ]
}