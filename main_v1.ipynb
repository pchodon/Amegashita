{
  "cells": [
    {
      "cell_type": "markdown",
      "metadata": {
        "id": "view-in-github",
        "colab_type": "text"
      },
      "source": [
        "<a href=\"https://colab.research.google.com/github/pchodon/Amegashita/blob/main/main_v1.ipynb\" target=\"_parent\"><img src=\"https://colab.research.google.com/assets/colab-badge.svg\" alt=\"Open In Colab\"/></a>"
      ]
    },
    {
      "cell_type": "code",
      "execution_count": null,
      "metadata": {
        "colab": {
          "base_uri": "https://localhost:8080/"
        },
        "id": "5bPBn32p_BIk",
        "outputId": "350700a4-0bd0-42cc-e5bc-ff48e8c41d5b"
      },
      "outputs": [
        {
          "output_type": "stream",
          "name": "stdout",
          "text": [
            "Drive already mounted at /content/drive; to attempt to forcibly remount, call drive.mount(\"/content/drive\", force_remount=True).\n"
          ]
        }
      ],
      "source": [
        "\n",
        "from google.colab import drive\n",
        "drive.mount('/content/drive')\n",
        "\n",
        "\n"
      ]
    },
    {
      "cell_type": "code",
      "source": [
        "import multiprocessing\n",
        "import time\n",
        "from csv import reader\n",
        "from google.colab import files\n",
        "import pandas as pd\n",
        "import threading\n",
        "\n",
        "sensory_1_resp = 1  # default 1 Sec\n",
        "sensory_2_resp = 1  # default 1 Sec\n",
        "temporal_resp = 1   # default 1 Sec\n",
        "thalamus_resp = 1   # default 1 Sec\n",
        "reset = 0\n",
        "forever = 1\n",
        "max_sensory_stream = 5\n",
        "Max_lapse = 10\n",
        "mTrue = 1\n",
        "mFalse = 0\n",
        "w, h = 10, 10;\n",
        "hipp_first = False\n",
        "\n",
        "\n",
        "\n",
        "def sensory_1(conn,msg):\n",
        "\n",
        "  data = []\n",
        "  with open('/content/drive/MyDrive/sense_1.csv', 'r') as data:\n",
        "    df_sensory_1 = pd.read_csv(data)\n",
        "\n",
        "  i = 0\n",
        "  while(1):\n",
        "   msg = df_sensory_1.loc[i]\n",
        "   print(\"sensory 1 msg\",msg[0])\n",
        "   conn.send(msg[0])\n",
        "   time.sleep(sensory_1_resp)\n",
        "   i = i+1\n",
        "   if(i==max_sensory_stream):\n",
        "        break\n",
        "  return  \n",
        "\n",
        "def sensory_2(conn,msg):\n",
        "  data = []\n",
        "  with open('/content/drive/MyDrive/sense_2.csv', 'r') as data:\n",
        "    df_sensory_2 = pd.read_csv(data)\n",
        "\n",
        "  i = 0\n",
        "  while(1):\n",
        "   msg = df_sensory_2.loc[i]\n",
        "   print(\"sensory 2 msg\",msg[0])\n",
        "   conn.send(msg[0])\n",
        "   time.sleep(sensory_2_resp)\n",
        "   i = i+1\n",
        "   if(i==max_sensory_stream):\n",
        "        break\n",
        "  return  \n",
        "\n",
        "def hippocampus(conn,msg):\n",
        "  return\n",
        "\n",
        "def thalamus(conn,xconn,msg):\n",
        "  maxim = 10\n",
        "  lapse = 0\n",
        "  window = False\n",
        "  source = False\n",
        "  sense = 0\n",
        "\n",
        "  while(True):\n",
        "      time.sleep(temporal_resp)\n",
        "      sense = conn.recv()\n",
        "      print('size of sense :',sense.ndim)\n",
        "      print(\"thalamus received :\",sense)\n",
        "      if((lapse == sense)):\n",
        "            print(\"blank\")\n",
        "            source = False\n",
        "      if(window==True):\n",
        "               lapse = lapse + 1\n",
        "      if(lapse == Max_lapse):\n",
        "            lapse = 0\n",
        "            print(\"leaving 10sec window\")\n",
        "            window = False\n",
        "# Signal end of window\n",
        "            msg = 4\n",
        "            xconn.send(msg)\n",
        "            continue\n",
        "\n",
        "            lapse = 0\n",
        "            window = True\n",
        "            if(sense == '1'):\n",
        "                source = 1\n",
        "            if(sense == '2'):\n",
        "                source = 2\n",
        "\n",
        "# Send the signal to hippocampus process        \n",
        "            msg = sense\n",
        "            xconn.send(msg)\n",
        "\n",
        "# As sensory input is received\n",
        "# Start a timer window  \n",
        "# Reset the window e experiences no sensory inputs\n",
        "  return\n",
        "\n",
        "\n",
        "if __name__ == \"__main__\":\n",
        "  print(\"System Starting......\")\n",
        "  msg = 0\n",
        "\n",
        "        # creating common pipe name\n",
        "  parent_conn, child_conn = multiprocessing.Pipe()\n",
        "  xparent_conn, xchild_conn = multiprocessing.Pipe()\n",
        "\n",
        "  p1 = multiprocessing.Process(target=sensory_1, args=(parent_conn,msg))\n",
        "  p2 = multiprocessing.Process(target=sensory_2, args=(parent_conn,msg))\n",
        "  p3 = multiprocessing.Process(target=thalamus, args=(child_conn,xparent_conn,msg))\n",
        "  p4 = multiprocessing.Process(target=hippocampus, args=(xchild_conn,msg))\n",
        "\n",
        "       # running processes\n",
        "  p1.start()\n",
        "  p2.start()\n",
        "  p3.start()\n",
        "  p4.start()\n",
        "  time.sleep(10)\n",
        "  print(\"Starting new cycle\")\n",
        "\n",
        "p1.join()\n",
        "p2.join()\n",
        "p3.join()\n",
        "p4.join()\n",
        "time.sleep(2)\n",
        "\n",
        "print(\"Starting new episode\")\n",
        "#333444"
      ],
      "metadata": {
        "colab": {
          "base_uri": "https://localhost:8080/",
          "height": 1000
        },
        "id": "Kai6n9CzA6Lw",
        "outputId": "a1287a0a-7d87-4d19-c615-36d3a5758412"
      },
      "execution_count": null,
      "outputs": [
        {
          "output_type": "stream",
          "name": "stdout",
          "text": [
            "System Starting......\n",
            "sensory 1 msg 1\n",
            "sensory 2 msg 0\n",
            "size of sense : 0\n",
            "thalamus received : 0\n",
            "blank\n",
            "sensory 2 msg 0\n",
            "sensory 1 msg 1\n",
            "size of sense : 0\n",
            "thalamus received : 1\n",
            "sensory 2 msg 0\n",
            "sensory 1 msg 1\n",
            "size of sense : 0\n",
            "thalamus received : 0\n",
            "sensory 2 msg 0\n",
            "sensory 1 msg 1\n",
            "blank\n",
            "sensory 2 msg 0\n",
            "size of sense : 0\n",
            "sensory 1 msg 1\n",
            "thalamus received : 1\n",
            "size of sense : 0\n",
            "thalamus received : 1\n",
            "size of sense : 0\n",
            "thalamus received : 0\n",
            "blank\n",
            "size of sense : 0\n",
            "thalamus received : 0\n",
            "blank\n",
            "size of sense : 0\n",
            "thalamus received : 1\n",
            "size of sense : 0\n",
            "thalamus received : 0\n",
            "blank\n",
            "size of sense : 0\n",
            "thalamus received : 1\n",
            "Starting new cycle\n"
          ]
        },
        {
          "output_type": "stream",
          "name": "stderr",
          "text": [
            "Process Process-19:\n",
            "Traceback (most recent call last):\n",
            "  File \"/usr/lib/python3.7/multiprocessing/process.py\", line 297, in _bootstrap\n",
            "    self.run()\n",
            "  File \"/usr/lib/python3.7/multiprocessing/process.py\", line 99, in run\n",
            "    self._target(*self._args, **self._kwargs)\n",
            "  File \"<ipython-input-5-41a623aea19f>\", line 68, in thalamus\n",
            "    sense = conn.recv()\n",
            "  File \"/usr/lib/python3.7/multiprocessing/connection.py\", line 250, in recv\n",
            "    buf = self._recv_bytes()\n",
            "  File \"/usr/lib/python3.7/multiprocessing/connection.py\", line 407, in _recv_bytes\n",
            "    buf = self._recv(4)\n"
          ]
        },
        {
          "output_type": "error",
          "ename": "KeyboardInterrupt",
          "evalue": "ignored",
          "traceback": [
            "\u001b[0;31m---------------------------------------------------------------------------\u001b[0m",
            "\u001b[0;31mKeyboardInterrupt\u001b[0m                         Traceback (most recent call last)",
            "\u001b[0;32m<ipython-input-5-41a623aea19f>\u001b[0m in \u001b[0;36m<module>\u001b[0;34m()\u001b[0m\n\u001b[1;32m    123\u001b[0m \u001b[0mp1\u001b[0m\u001b[0;34m.\u001b[0m\u001b[0mjoin\u001b[0m\u001b[0;34m(\u001b[0m\u001b[0;34m)\u001b[0m\u001b[0;34m\u001b[0m\u001b[0;34m\u001b[0m\u001b[0m\n\u001b[1;32m    124\u001b[0m \u001b[0mp2\u001b[0m\u001b[0;34m.\u001b[0m\u001b[0mjoin\u001b[0m\u001b[0;34m(\u001b[0m\u001b[0;34m)\u001b[0m\u001b[0;34m\u001b[0m\u001b[0;34m\u001b[0m\u001b[0m\n\u001b[0;32m--> 125\u001b[0;31m \u001b[0mp3\u001b[0m\u001b[0;34m.\u001b[0m\u001b[0mjoin\u001b[0m\u001b[0;34m(\u001b[0m\u001b[0;34m)\u001b[0m\u001b[0;34m\u001b[0m\u001b[0;34m\u001b[0m\u001b[0m\n\u001b[0m\u001b[1;32m    126\u001b[0m \u001b[0mp4\u001b[0m\u001b[0;34m.\u001b[0m\u001b[0mjoin\u001b[0m\u001b[0;34m(\u001b[0m\u001b[0;34m)\u001b[0m\u001b[0;34m\u001b[0m\u001b[0;34m\u001b[0m\u001b[0m\n\u001b[1;32m    127\u001b[0m \u001b[0mtime\u001b[0m\u001b[0;34m.\u001b[0m\u001b[0msleep\u001b[0m\u001b[0;34m(\u001b[0m\u001b[0;36m2\u001b[0m\u001b[0;34m)\u001b[0m\u001b[0;34m\u001b[0m\u001b[0;34m\u001b[0m\u001b[0m\n",
            "\u001b[0;32m/usr/lib/python3.7/multiprocessing/process.py\u001b[0m in \u001b[0;36mjoin\u001b[0;34m(self, timeout)\u001b[0m\n\u001b[1;32m    138\u001b[0m         \u001b[0;32massert\u001b[0m \u001b[0mself\u001b[0m\u001b[0;34m.\u001b[0m\u001b[0m_parent_pid\u001b[0m \u001b[0;34m==\u001b[0m \u001b[0mos\u001b[0m\u001b[0;34m.\u001b[0m\u001b[0mgetpid\u001b[0m\u001b[0;34m(\u001b[0m\u001b[0;34m)\u001b[0m\u001b[0;34m,\u001b[0m \u001b[0;34m'can only join a child process'\u001b[0m\u001b[0;34m\u001b[0m\u001b[0;34m\u001b[0m\u001b[0m\n\u001b[1;32m    139\u001b[0m         \u001b[0;32massert\u001b[0m \u001b[0mself\u001b[0m\u001b[0;34m.\u001b[0m\u001b[0m_popen\u001b[0m \u001b[0;32mis\u001b[0m \u001b[0;32mnot\u001b[0m \u001b[0;32mNone\u001b[0m\u001b[0;34m,\u001b[0m \u001b[0;34m'can only join a started process'\u001b[0m\u001b[0;34m\u001b[0m\u001b[0;34m\u001b[0m\u001b[0m\n\u001b[0;32m--> 140\u001b[0;31m         \u001b[0mres\u001b[0m \u001b[0;34m=\u001b[0m \u001b[0mself\u001b[0m\u001b[0;34m.\u001b[0m\u001b[0m_popen\u001b[0m\u001b[0;34m.\u001b[0m\u001b[0mwait\u001b[0m\u001b[0;34m(\u001b[0m\u001b[0mtimeout\u001b[0m\u001b[0;34m)\u001b[0m\u001b[0;34m\u001b[0m\u001b[0;34m\u001b[0m\u001b[0m\n\u001b[0m\u001b[1;32m    141\u001b[0m         \u001b[0;32mif\u001b[0m \u001b[0mres\u001b[0m \u001b[0;32mis\u001b[0m \u001b[0;32mnot\u001b[0m \u001b[0;32mNone\u001b[0m\u001b[0;34m:\u001b[0m\u001b[0;34m\u001b[0m\u001b[0;34m\u001b[0m\u001b[0m\n\u001b[1;32m    142\u001b[0m             \u001b[0m_children\u001b[0m\u001b[0;34m.\u001b[0m\u001b[0mdiscard\u001b[0m\u001b[0;34m(\u001b[0m\u001b[0mself\u001b[0m\u001b[0;34m)\u001b[0m\u001b[0;34m\u001b[0m\u001b[0;34m\u001b[0m\u001b[0m\n",
            "\u001b[0;32m/usr/lib/python3.7/multiprocessing/popen_fork.py\u001b[0m in \u001b[0;36mwait\u001b[0;34m(self, timeout)\u001b[0m\n\u001b[1;32m     46\u001b[0m                     \u001b[0;32mreturn\u001b[0m \u001b[0;32mNone\u001b[0m\u001b[0;34m\u001b[0m\u001b[0;34m\u001b[0m\u001b[0m\n\u001b[1;32m     47\u001b[0m             \u001b[0;31m# This shouldn't block if wait() returned successfully.\u001b[0m\u001b[0;34m\u001b[0m\u001b[0;34m\u001b[0m\u001b[0;34m\u001b[0m\u001b[0m\n\u001b[0;32m---> 48\u001b[0;31m             \u001b[0;32mreturn\u001b[0m \u001b[0mself\u001b[0m\u001b[0;34m.\u001b[0m\u001b[0mpoll\u001b[0m\u001b[0;34m(\u001b[0m\u001b[0mos\u001b[0m\u001b[0;34m.\u001b[0m\u001b[0mWNOHANG\u001b[0m \u001b[0;32mif\u001b[0m \u001b[0mtimeout\u001b[0m \u001b[0;34m==\u001b[0m \u001b[0;36m0.0\u001b[0m \u001b[0;32melse\u001b[0m \u001b[0;36m0\u001b[0m\u001b[0;34m)\u001b[0m\u001b[0;34m\u001b[0m\u001b[0;34m\u001b[0m\u001b[0m\n\u001b[0m\u001b[1;32m     49\u001b[0m         \u001b[0;32mreturn\u001b[0m \u001b[0mself\u001b[0m\u001b[0;34m.\u001b[0m\u001b[0mreturncode\u001b[0m\u001b[0;34m\u001b[0m\u001b[0;34m\u001b[0m\u001b[0m\n\u001b[1;32m     50\u001b[0m \u001b[0;34m\u001b[0m\u001b[0m\n",
            "\u001b[0;32m/usr/lib/python3.7/multiprocessing/popen_fork.py\u001b[0m in \u001b[0;36mpoll\u001b[0;34m(self, flag)\u001b[0m\n\u001b[1;32m     26\u001b[0m         \u001b[0;32mif\u001b[0m \u001b[0mself\u001b[0m\u001b[0;34m.\u001b[0m\u001b[0mreturncode\u001b[0m \u001b[0;32mis\u001b[0m \u001b[0;32mNone\u001b[0m\u001b[0;34m:\u001b[0m\u001b[0;34m\u001b[0m\u001b[0;34m\u001b[0m\u001b[0m\n\u001b[1;32m     27\u001b[0m             \u001b[0;32mtry\u001b[0m\u001b[0;34m:\u001b[0m\u001b[0;34m\u001b[0m\u001b[0;34m\u001b[0m\u001b[0m\n\u001b[0;32m---> 28\u001b[0;31m                 \u001b[0mpid\u001b[0m\u001b[0;34m,\u001b[0m \u001b[0msts\u001b[0m \u001b[0;34m=\u001b[0m \u001b[0mos\u001b[0m\u001b[0;34m.\u001b[0m\u001b[0mwaitpid\u001b[0m\u001b[0;34m(\u001b[0m\u001b[0mself\u001b[0m\u001b[0;34m.\u001b[0m\u001b[0mpid\u001b[0m\u001b[0;34m,\u001b[0m \u001b[0mflag\u001b[0m\u001b[0;34m)\u001b[0m\u001b[0;34m\u001b[0m\u001b[0;34m\u001b[0m\u001b[0m\n\u001b[0m\u001b[1;32m     29\u001b[0m             \u001b[0;32mexcept\u001b[0m \u001b[0mOSError\u001b[0m \u001b[0;32mas\u001b[0m \u001b[0me\u001b[0m\u001b[0;34m:\u001b[0m\u001b[0;34m\u001b[0m\u001b[0;34m\u001b[0m\u001b[0m\n\u001b[1;32m     30\u001b[0m                 \u001b[0;31m# Child process not yet created. See #1731717\u001b[0m\u001b[0;34m\u001b[0m\u001b[0;34m\u001b[0m\u001b[0;34m\u001b[0m\u001b[0m\n",
            "\u001b[0;31mKeyboardInterrupt\u001b[0m: "
          ]
        },
        {
          "output_type": "stream",
          "name": "stderr",
          "text": [
            "  File \"/usr/lib/python3.7/multiprocessing/connection.py\", line 379, in _recv\n",
            "    chunk = read(handle, remaining)\n",
            "KeyboardInterrupt\n"
          ]
        }
      ]
    }
  ],
  "metadata": {
    "colab": {
      "name": "main_v1.ipynb",
      "provenance": [],
      "mount_file_id": "https://github.com/pchodon/Amegashita/blob/main/main_v1.ipynb",
      "authorship_tag": "ABX9TyPDGDGJCU0sMpXfokwYb4bG",
      "include_colab_link": true
    },
    "kernelspec": {
      "display_name": "Python 3",
      "name": "python3"
    },
    "language_info": {
      "name": "python"
    }
  },
  "nbformat": 4,
  "nbformat_minor": 0
}