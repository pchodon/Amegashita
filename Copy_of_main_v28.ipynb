{
  "cells": [
    {
      "cell_type": "markdown",
      "metadata": {
        "id": "view-in-github",
        "colab_type": "text"
      },
      "source": [
        "<a href=\"https://colab.research.google.com/github/pchodon/Amegashita/blob/Feature-Integration/Copy_of_main_v28.ipynb\" target=\"_parent\"><img src=\"https://colab.research.google.com/assets/colab-badge.svg\" alt=\"Open In Colab\"/></a>"
      ]
    },
    {
      "cell_type": "code",
      "execution_count": 1,
      "metadata": {
        "colab": {
          "base_uri": "https://localhost:8080/",
          "height": 0
        },
        "id": "5bPBn32p_BIk",
        "outputId": "40d4a24a-5717-4b3a-9c17-f446b8ff9f40"
      },
      "outputs": [
        {
          "output_type": "stream",
          "name": "stdout",
          "text": [
            "Mounted at /content/drive\n"
          ]
        }
      ],
      "source": [
        "\n",
        "from google.colab import drive\n",
        "drive.mount('/content/drive')\n",
        "\n",
        "\n"
      ]
    },
    {
      "cell_type": "code",
      "source": [
        "from google.colab import drive\n",
        "drive.mount('/content/drive')"
      ],
      "metadata": {
        "colab": {
          "base_uri": "https://localhost:8080/"
        },
        "id": "NTo8WGjLsdqw",
        "outputId": "52fee219-0cca-4ecc-e63b-a44ac096bbee"
      },
      "execution_count": null,
      "outputs": [
        {
          "output_type": "stream",
          "name": "stdout",
          "text": [
            "Drive already mounted at /content/drive; to attempt to forcibly remount, call drive.mount(\"/content/drive\", force_remount=True).\n"
          ]
        }
      ]
    },
    {
      "cell_type": "code",
      "source": [
        "import multiprocessing\n",
        "import time\n",
        "from csv import reader\n",
        "from google.colab import files\n",
        "import pandas as pd\n",
        "import threading\n",
        "import os\n",
        "import tensorflow as tf\n",
        "import numpy as np\n",
        "import sys\n",
        "import matplotlib.pyplot as plt\n",
        "\n",
        "\n",
        "from tensorflow import feature_column\n",
        "#from tensorflow.keras import layers\n",
        "from sklearn.model_selection import train_test_split\n",
        "\n",
        "idle_window = 1\n",
        "No_of_records = 4\n",
        "Parameters = 4\n",
        "idle_2_switch = 5\n",
        "No_of_elements = 10\n",
        "\n",
        "x1 = tf.zeros([No_of_records,Parameters,No_of_elements])\n",
        "np.b =np.zeros((No_of_records,Parameters,No_of_elements))\n",
        "ta = tf.TensorArray(tf.float32, size=sys.getsizeof(x1), dynamic_size=True, clear_after_read=False)\n",
        "rank_3_tensor= tf.convert_to_tensor(np.b, dtype=tf.float32)\n",
        "\n",
        "\n",
        "\n",
        "sensory_1_resp = 0.5  # default 1 Sec\n",
        "sensory_2_resp = 0.5  # default 1 Sec\n",
        "temporal_resp =  1  # default 1 Sec\n",
        "thalamus_resp =  1  # default 1 Sec\n",
        "reset = 0\n",
        "forever = 1\n",
        "max_sensory_stream = 80\n",
        "Max_lapse = 5\n",
        "mTrue = 1\n",
        "mFalse = 0\n",
        "w, h = 10, 10;\n",
        "hipp_first = False\n",
        "stop_emulation = 0\n",
        "idle_window = 12\n",
        "window_start = 0\n",
        "\n",
        "row,column = (4,10)\n",
        "\n",
        "# row 1 = time\n",
        "# row 2 = sensor_1\n",
        "# row_3 = sensor_1\n",
        "# row_4 = learning\n",
        "\n",
        "#101213141516171819\n",
        "#20212223242526272829\n",
        "#3031323334353637383930\n",
        "\n",
        "TIME = 1\n",
        "SENSOR_1 = 2\n",
        "SENSOR_2 = 3\n",
        "LEARNING = 4\n",
        "\n",
        "\n",
        "def sensory_1(send_1_sensor,recv_1_sensor,parent_conn,msg):\n",
        "   \n",
        "  while(1):\n",
        "    time.sleep(idle_window)\n",
        "    print(\"sensory_1\")\n",
        "\n",
        "def sensory_2(send_2_sensor,recv_2_sensor,parent_conn,msg):\n",
        "  \n",
        "  while(1):\n",
        "    time.sleep(idle_window)\n",
        "    print(\"sensory_2\")\n",
        "\n",
        "def Idle(idle_state_send,msg):\n",
        " \n",
        "  while(1):\n",
        "    time.sleep(idle_window)\n",
        "    print(\"Idle\")\n",
        "\n",
        "\n",
        "def hippocampus(xparent_conn,xchild_conn,msg):\n",
        "  while(1):\n",
        "\n",
        "    time.sleep(idle_window)\n",
        "    print(\"hippocampus\")\n",
        "\n",
        "     \n",
        "\n",
        "def thalamus(b,idle_state_recv,recv_1_sensor,recv_2_sensor,parent_conn,child_conn,xparent_conn,xchild_conn,msg):\n",
        "  \n",
        "  while(1):\n",
        "    time.sleep(idle_window)\n",
        "    print(\"thalamus\")\n",
        "\n",
        "\n",
        "\n",
        "\n",
        "if __name__ == \"__main__\":\n",
        "  print(\"System Starting......\")\n",
        "  msg = 0\n",
        "\n",
        "\n",
        "\n",
        "        # creating common pipe name\n",
        "  parent_conn, child_conn = multiprocessing.Pipe()\n",
        "  send_1_sensor,recv_1_sensor = multiprocessing.Pipe()\n",
        "  send_2_sensor,recv_2_sensor = multiprocessing.Pipe()\n",
        "  idle_state_send,idle_state_recv = multiprocessing.Pipe()\n",
        "  xparent_conn, xchild_conn = multiprocessing.Pipe()\n",
        "  timer = multiprocessing.Pipe()\n",
        "\n",
        "  p1 = multiprocessing.Process(target=sensory_1, args=(send_1_sensor,recv_1_sensor,parent_conn,msg))\n",
        "  p2 = multiprocessing.Process(target=sensory_2, args=(send_2_sensor,recv_2_sensor,parent_conn,msg))\n",
        "  p3 = multiprocessing.Process(target=thalamus, args=(np.b,idle_state_recv,recv_1_sensor,recv_2_sensor,parent_conn,child_conn,xparent_conn, xchild_conn,msg))\n",
        "  p4 = multiprocessing.Process(target=hippocampus, args=(xparent_conn,xchild_conn,msg))\n",
        "  p5 = multiprocessing.Process(target=Idle, args=(idle_state_send,msg))\n",
        "\n",
        "\n",
        "\n",
        "       # running processes\n",
        "  \n",
        "  print(\"Starting all process\")\n",
        "\n",
        "  p1.start()\n",
        "  p2.start()\n",
        "  p3.start()\n",
        "  p4.start()\n",
        "  p5.start()\n",
        " \n",
        "  #time.sleep(0)\n",
        "  \n",
        "  print(\"Stopping all process\")\n",
        "  p5.join()\n",
        "  p4.join()\n",
        "  p3.join()\n",
        "  p2.join()\n",
        "  p1.join()\n",
        "\n",
        "\n",
        "  while(1):\n",
        "    print(\"Stopped\")\n",
        "    \n",
        " \n",
        "#333444\n",
        "#https://www.geeksforgeeks.org/how-to-setup-your-own-private-ethereum-network/#:~:text=ipc%20file%20finds%20it%20in,private%20Ethereum%20network%20is%20ready."
      ],
      "metadata": {
        "colab": {
          "base_uri": "https://localhost:8080/",
          "height": 1000
        },
        "id": "Kai6n9CzA6Lw",
        "outputId": "6a12c2b6-52cb-471f-f980-7259e4fa8bb4"
      },
      "execution_count": 11,
      "outputs": [
        {
          "output_type": "stream",
          "name": "stdout",
          "text": [
            "System Starting......\n",
            "Starting all process\n",
            "Stopping all process\n",
            "sensory_1\n",
            "sensory_2\n",
            "thalamushippocampus\n",
            "\n",
            "Idle\n",
            "sensory_1\n",
            "sensory_2\n",
            "thalamushippocampus\n",
            "\n",
            "Idle\n",
            "sensory_1\n",
            "sensory_2\n",
            "thalamushippocampus\n",
            "\n",
            "Idle\n"
          ]
        },
        {
          "output_type": "stream",
          "name": "stderr",
          "text": [
            "Process Process-46:\n",
            "Process Process-49:\n",
            "Traceback (most recent call last):\n",
            "Process Process-47:\n",
            "Process Process-50:\n",
            "Traceback (most recent call last):\n",
            "Process Process-48:\n",
            "Traceback (most recent call last):\n",
            "  File \"/usr/lib/python3.8/multiprocessing/process.py\", line 315, in _bootstrap\n",
            "    self.run()\n",
            "Traceback (most recent call last):\n"
          ]
        },
        {
          "output_type": "error",
          "ename": "KeyboardInterrupt",
          "evalue": "ignored",
          "traceback": [
            "\u001b[0;31m---------------------------------------------------------------------------\u001b[0m",
            "\u001b[0;31mKeyboardInterrupt\u001b[0m                         Traceback (most recent call last)",
            "\u001b[0;32m<ipython-input-11-dc995a9643c4>\u001b[0m in \u001b[0;36m<module>\u001b[0;34m\u001b[0m\n\u001b[1;32m    133\u001b[0m \u001b[0;34m\u001b[0m\u001b[0m\n\u001b[1;32m    134\u001b[0m   \u001b[0mprint\u001b[0m\u001b[0;34m(\u001b[0m\u001b[0;34m\"Stopping all process\"\u001b[0m\u001b[0;34m)\u001b[0m\u001b[0;34m\u001b[0m\u001b[0;34m\u001b[0m\u001b[0m\n\u001b[0;32m--> 135\u001b[0;31m   \u001b[0mp5\u001b[0m\u001b[0;34m.\u001b[0m\u001b[0mjoin\u001b[0m\u001b[0;34m(\u001b[0m\u001b[0;34m)\u001b[0m\u001b[0;34m\u001b[0m\u001b[0;34m\u001b[0m\u001b[0m\n\u001b[0m\u001b[1;32m    136\u001b[0m   \u001b[0mp4\u001b[0m\u001b[0;34m.\u001b[0m\u001b[0mjoin\u001b[0m\u001b[0;34m(\u001b[0m\u001b[0;34m)\u001b[0m\u001b[0;34m\u001b[0m\u001b[0;34m\u001b[0m\u001b[0m\n\u001b[1;32m    137\u001b[0m   \u001b[0mp3\u001b[0m\u001b[0;34m.\u001b[0m\u001b[0mjoin\u001b[0m\u001b[0;34m(\u001b[0m\u001b[0;34m)\u001b[0m\u001b[0;34m\u001b[0m\u001b[0;34m\u001b[0m\u001b[0m\n",
            "\u001b[0;32m/usr/lib/python3.8/multiprocessing/process.py\u001b[0m in \u001b[0;36mjoin\u001b[0;34m(self, timeout)\u001b[0m\n\u001b[1;32m    147\u001b[0m         \u001b[0;32massert\u001b[0m \u001b[0mself\u001b[0m\u001b[0;34m.\u001b[0m\u001b[0m_parent_pid\u001b[0m \u001b[0;34m==\u001b[0m \u001b[0mos\u001b[0m\u001b[0;34m.\u001b[0m\u001b[0mgetpid\u001b[0m\u001b[0;34m(\u001b[0m\u001b[0;34m)\u001b[0m\u001b[0;34m,\u001b[0m \u001b[0;34m'can only join a child process'\u001b[0m\u001b[0;34m\u001b[0m\u001b[0;34m\u001b[0m\u001b[0m\n\u001b[1;32m    148\u001b[0m         \u001b[0;32massert\u001b[0m \u001b[0mself\u001b[0m\u001b[0;34m.\u001b[0m\u001b[0m_popen\u001b[0m \u001b[0;32mis\u001b[0m \u001b[0;32mnot\u001b[0m \u001b[0;32mNone\u001b[0m\u001b[0;34m,\u001b[0m \u001b[0;34m'can only join a started process'\u001b[0m\u001b[0;34m\u001b[0m\u001b[0;34m\u001b[0m\u001b[0m\n\u001b[0;32m--> 149\u001b[0;31m         \u001b[0mres\u001b[0m \u001b[0;34m=\u001b[0m \u001b[0mself\u001b[0m\u001b[0;34m.\u001b[0m\u001b[0m_popen\u001b[0m\u001b[0;34m.\u001b[0m\u001b[0mwait\u001b[0m\u001b[0;34m(\u001b[0m\u001b[0mtimeout\u001b[0m\u001b[0;34m)\u001b[0m\u001b[0;34m\u001b[0m\u001b[0;34m\u001b[0m\u001b[0m\n\u001b[0m\u001b[1;32m    150\u001b[0m         \u001b[0;32mif\u001b[0m \u001b[0mres\u001b[0m \u001b[0;32mis\u001b[0m \u001b[0;32mnot\u001b[0m \u001b[0;32mNone\u001b[0m\u001b[0;34m:\u001b[0m\u001b[0;34m\u001b[0m\u001b[0;34m\u001b[0m\u001b[0m\n\u001b[1;32m    151\u001b[0m             \u001b[0m_children\u001b[0m\u001b[0;34m.\u001b[0m\u001b[0mdiscard\u001b[0m\u001b[0;34m(\u001b[0m\u001b[0mself\u001b[0m\u001b[0;34m)\u001b[0m\u001b[0;34m\u001b[0m\u001b[0;34m\u001b[0m\u001b[0m\n",
            "\u001b[0;32m/usr/lib/python3.8/multiprocessing/popen_fork.py\u001b[0m in \u001b[0;36mwait\u001b[0;34m(self, timeout)\u001b[0m\n\u001b[1;32m     45\u001b[0m                     \u001b[0;32mreturn\u001b[0m \u001b[0;32mNone\u001b[0m\u001b[0;34m\u001b[0m\u001b[0;34m\u001b[0m\u001b[0m\n\u001b[1;32m     46\u001b[0m             \u001b[0;31m# This shouldn't block if wait() returned successfully.\u001b[0m\u001b[0;34m\u001b[0m\u001b[0;34m\u001b[0m\u001b[0;34m\u001b[0m\u001b[0m\n\u001b[0;32m---> 47\u001b[0;31m             \u001b[0;32mreturn\u001b[0m \u001b[0mself\u001b[0m\u001b[0;34m.\u001b[0m\u001b[0mpoll\u001b[0m\u001b[0;34m(\u001b[0m\u001b[0mos\u001b[0m\u001b[0;34m.\u001b[0m\u001b[0mWNOHANG\u001b[0m \u001b[0;32mif\u001b[0m \u001b[0mtimeout\u001b[0m \u001b[0;34m==\u001b[0m \u001b[0;36m0.0\u001b[0m \u001b[0;32melse\u001b[0m \u001b[0;36m0\u001b[0m\u001b[0;34m)\u001b[0m\u001b[0;34m\u001b[0m\u001b[0;34m\u001b[0m\u001b[0m\n\u001b[0m\u001b[1;32m     48\u001b[0m         \u001b[0;32mreturn\u001b[0m \u001b[0mself\u001b[0m\u001b[0;34m.\u001b[0m\u001b[0mreturncode\u001b[0m\u001b[0;34m\u001b[0m\u001b[0;34m\u001b[0m\u001b[0m\n\u001b[1;32m     49\u001b[0m \u001b[0;34m\u001b[0m\u001b[0m\n",
            "\u001b[0;32m/usr/lib/python3.8/multiprocessing/popen_fork.py\u001b[0m in \u001b[0;36mpoll\u001b[0;34m(self, flag)\u001b[0m\n\u001b[1;32m     25\u001b[0m         \u001b[0;32mif\u001b[0m \u001b[0mself\u001b[0m\u001b[0;34m.\u001b[0m\u001b[0mreturncode\u001b[0m \u001b[0;32mis\u001b[0m \u001b[0;32mNone\u001b[0m\u001b[0;34m:\u001b[0m\u001b[0;34m\u001b[0m\u001b[0;34m\u001b[0m\u001b[0m\n\u001b[1;32m     26\u001b[0m             \u001b[0;32mtry\u001b[0m\u001b[0;34m:\u001b[0m\u001b[0;34m\u001b[0m\u001b[0;34m\u001b[0m\u001b[0m\n\u001b[0;32m---> 27\u001b[0;31m                 \u001b[0mpid\u001b[0m\u001b[0;34m,\u001b[0m \u001b[0msts\u001b[0m \u001b[0;34m=\u001b[0m \u001b[0mos\u001b[0m\u001b[0;34m.\u001b[0m\u001b[0mwaitpid\u001b[0m\u001b[0;34m(\u001b[0m\u001b[0mself\u001b[0m\u001b[0;34m.\u001b[0m\u001b[0mpid\u001b[0m\u001b[0;34m,\u001b[0m \u001b[0mflag\u001b[0m\u001b[0;34m)\u001b[0m\u001b[0;34m\u001b[0m\u001b[0;34m\u001b[0m\u001b[0m\n\u001b[0m\u001b[1;32m     28\u001b[0m             \u001b[0;32mexcept\u001b[0m \u001b[0mOSError\u001b[0m \u001b[0;32mas\u001b[0m \u001b[0me\u001b[0m\u001b[0;34m:\u001b[0m\u001b[0;34m\u001b[0m\u001b[0;34m\u001b[0m\u001b[0m\n\u001b[1;32m     29\u001b[0m                 \u001b[0;31m# Child process not yet created. See #1731717\u001b[0m\u001b[0;34m\u001b[0m\u001b[0;34m\u001b[0m\u001b[0;34m\u001b[0m\u001b[0m\n",
            "\u001b[0;31mKeyboardInterrupt\u001b[0m: "
          ]
        },
        {
          "output_type": "stream",
          "name": "stderr",
          "text": [
            "  File \"/usr/lib/python3.8/multiprocessing/process.py\", line 315, in _bootstrap\n",
            "    self.run()\n",
            "  File \"/usr/lib/python3.8/multiprocessing/process.py\", line 108, in run\n",
            "    self._target(*self._args, **self._kwargs)\n",
            "  File \"<ipython-input-11-dc995a9643c4>\", line 94, in thalamus\n",
            "    time.sleep(idle_window)\n",
            "KeyboardInterrupt\n",
            "  File \"/usr/lib/python3.8/multiprocessing/process.py\", line 315, in _bootstrap\n",
            "    self.run()\n",
            "Traceback (most recent call last):\n",
            "  File \"/usr/lib/python3.8/multiprocessing/process.py\", line 108, in run\n",
            "    self._target(*self._args, **self._kwargs)\n",
            "  File \"/usr/lib/python3.8/multiprocessing/process.py\", line 315, in _bootstrap\n",
            "    self.run()\n",
            "  File \"<ipython-input-11-dc995a9643c4>\", line 73, in sensory_2\n",
            "    time.sleep(idle_window)\n",
            "  File \"/usr/lib/python3.8/multiprocessing/process.py\", line 108, in run\n",
            "    self._target(*self._args, **self._kwargs)\n",
            "  File \"/usr/lib/python3.8/multiprocessing/process.py\", line 108, in run\n",
            "    self._target(*self._args, **self._kwargs)\n",
            "  File \"/usr/lib/python3.8/multiprocessing/process.py\", line 315, in _bootstrap\n",
            "    self.run()\n",
            "  File \"<ipython-input-11-dc995a9643c4>\", line 86, in hippocampus\n",
            "    time.sleep(idle_window)\n",
            "KeyboardInterrupt\n",
            "  File \"<ipython-input-11-dc995a9643c4>\", line 67, in sensory_1\n",
            "    time.sleep(idle_window)\n",
            "KeyboardInterrupt\n",
            "  File \"/usr/lib/python3.8/multiprocessing/process.py\", line 108, in run\n",
            "    self._target(*self._args, **self._kwargs)\n",
            "  File \"<ipython-input-11-dc995a9643c4>\", line 79, in Idle\n",
            "    time.sleep(idle_window)\n",
            "KeyboardInterrupt\n",
            "KeyboardInterrupt\n"
          ]
        }
      ]
    },
    {
      "cell_type": "markdown",
      "source": [],
      "metadata": {
        "id": "KpfrqARD3kx4"
      }
    }
  ],
  "metadata": {
    "colab": {
      "provenance": [],
      "mount_file_id": "https://gist.github.com/pchodon/eb8a85dc0ecf80f63555a7e299a5605d#file-main_v1-ipynb",
      "authorship_tag": "ABX9TyNGvgl6IMptmr3X1T3/aEXr",
      "include_colab_link": true
    },
    "kernelspec": {
      "display_name": "Python 3",
      "name": "python3"
    },
    "language_info": {
      "name": "python"
    }
  },
  "nbformat": 4,
  "nbformat_minor": 0
}