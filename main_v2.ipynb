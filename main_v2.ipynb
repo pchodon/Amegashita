{
  "cells": [
    {
      "cell_type": "markdown",
      "metadata": {
        "id": "view-in-github",
        "colab_type": "text"
      },
      "source": [
        "<a href=\"https://colab.research.google.com/github/pchodon/Amegashita/blob/basecode/main_v2.ipynb\" target=\"_parent\"><img src=\"https://colab.research.google.com/assets/colab-badge.svg\" alt=\"Open In Colab\"/></a>"
      ]
    },
    {
      "cell_type": "code",
      "execution_count": null,
      "metadata": {
        "colab": {
          "base_uri": "https://localhost:8080/"
        },
        "id": "5bPBn32p_BIk",
        "outputId": "350700a4-0bd0-42cc-e5bc-ff48e8c41d5b"
      },
      "outputs": [
        {
          "output_type": "stream",
          "name": "stdout",
          "text": [
            "Drive already mounted at /content/drive; to attempt to forcibly remount, call drive.mount(\"/content/drive\", force_remount=True).\n"
          ]
        }
      ],
      "source": [
        "\n",
        "from google.colab import drive\n",
        "drive.mount('/content/drive')\n",
        "\n",
        "\n"
      ]
    },
    {
      "cell_type": "code",
      "source": [
        "import multiprocessing\n",
        "import time\n",
        "from csv import reader\n",
        "from google.colab import files\n",
        "import pandas as pd\n",
        "import threading\n",
        "import sys\n",
        "\n",
        "\n",
        "sensory_1_resp = 1  # default 1 Sec\n",
        "sensory_2_resp = 1  # default 1 Sec\n",
        "temporal_resp = 1   # default 1 Sec\n",
        "thalamus_resp = 1   # default 1 Sec\n",
        "reset = 0\n",
        "forever = 1\n",
        "max_sensory_stream = 5\n",
        "Max_lapse = 5\n",
        "mTrue = 1\n",
        "mFalse = 0\n",
        "w, h = 10, 10;\n",
        "hipp_first = False\n",
        "\n",
        "\n",
        "\n",
        "def sensory_1(conn,msg):\n",
        "\n",
        "  data = []\n",
        "  with open('/content/drive/MyDrive/sense_1.csv', 'r') as data:\n",
        "    df_sensory_1 = pd.read_csv(data)\n",
        "\n",
        "  i = 0\n",
        "  while(1):\n",
        "   msg = df_sensory_1.loc[i]\n",
        "   print(\"sensory 1 msg\",msg[0])\n",
        "   conn.send(msg[0])\n",
        "   time.sleep(sensory_1_resp)\n",
        "   i = i+1\n",
        "   if(i==max_sensory_stream):\n",
        "        break\n",
        "  return  \n",
        "\n",
        "def sensory_2(conn,msg):\n",
        "  data = []\n",
        "  with open('/content/drive/MyDrive/sense_2.csv', 'r') as data:\n",
        "    df_sensory_2 = pd.read_csv(data)\n",
        "\n",
        "  i = 0\n",
        "  while(1):\n",
        "   msg = df_sensory_2.loc[i]\n",
        "   print(\"sensory 2 msg\",msg[0])\n",
        "   conn.send(msg[0])\n",
        "   time.sleep(sensory_2_resp)\n",
        "   i = i+1\n",
        "   if(i==max_sensory_stream):\n",
        "        break\n",
        "  return  \n",
        "\n",
        "def hippocampus(conn,msg):\n",
        "  return\n",
        "\n",
        "def thalamus(conn,xconn,msg):\n",
        "  maxim = 10\n",
        "  lapse = 0\n",
        "  window = False\n",
        "  source = False\n",
        "  sense = 0\n",
        "\n",
        "  while(True):\n",
        "      time.sleep(temporal_resp)\n",
        "      sense = conn.recv()\n",
        "      lapse = lapse + 1\n",
        "      print(\"Lapse :\",lapse)\n",
        "      if(lapse >= Max_lapse):\n",
        "        print(\"leaving 10sec window\")\n",
        "        return\n",
        "      continue\n",
        "      if((lapse == sense)):\n",
        "         lapse = lapse + 1\n",
        "         if(lapse >= Max_lapse):\n",
        "                lapse = 0\n",
        "                print(\"leaving 10sec window\")\n",
        "                window = False\n",
        "# Signal end of window\n",
        "                msg = 4\n",
        "                xconn.send(msg)\n",
        "                continue\n",
        "\n",
        "                lapse = 0\n",
        "                window = True\n",
        "                if(sense == '1'):\n",
        "                 source = 1\n",
        "                if(sense == '2'):\n",
        "                 source = 2\n",
        "\n",
        "# Send the signal to hippocampus process        \n",
        "                msg = sense\n",
        "                xconn.send(msg)\n",
        "\n",
        "# As sensory input is received\n",
        "# Start a timer window  \n",
        "# Reset the window e experiences no sensory inputs\n",
        "  #return\n",
        "\n",
        "\n",
        "if __name__ == \"__main__\":\n",
        "  print(\"System Starting......\")\n",
        "  msg = 0\n",
        "\n",
        "        # creating common pipe name\n",
        "  parent_conn, child_conn = multiprocessing.Pipe()\n",
        "  xparent_conn, xchild_conn = multiprocessing.Pipe()\n",
        "\n",
        "  p1 = multiprocessing.Process(target=sensory_1, args=(parent_conn,msg))\n",
        "  p2 = multiprocessing.Process(target=sensory_2, args=(parent_conn,msg))\n",
        "  p3 = multiprocessing.Process(target=thalamus, args=(child_conn,xparent_conn,msg))\n",
        "  p4 = multiprocessing.Process(target=hippocampus, args=(xchild_conn,msg))\n",
        "\n",
        "       # running processes\n",
        "  p1.start()\n",
        "  p2.start()\n",
        "  p3.start()\n",
        "  p4.start()\n",
        "  time.sleep(10)\n",
        "  print(\"Starting new cycle\")\n",
        "\n",
        "  p1.join()\n",
        "  p2.join()\n",
        "  p3.join()\n",
        "  p4.join()\n",
        "  time.sleep(2)\n",
        "\n",
        "\n",
        "print(\"Starting new episode\")\n",
        "#333444"
      ],
      "metadata": {
        "colab": {
          "base_uri": "https://localhost:8080/"
        },
        "id": "Kai6n9CzA6Lw",
        "outputId": "54b88b2c-103b-44d3-cee2-bd3f40589293"
      },
      "execution_count": 19,
      "outputs": [
        {
          "output_type": "stream",
          "name": "stdout",
          "text": [
            "System Starting......\n",
            "sensory 2 msg 0\n",
            "sensory 1 msg 1\n",
            "Lapse : 1\n",
            "sensory 1 msg 1\n",
            "sensory 2 msg 0\n",
            "Lapse : 2\n",
            "sensory 1 msg 1\n",
            "sensory 2 msg 0\n",
            "Lapse : 3\n",
            "sensory 1 msg 1\n",
            "sensory 2 msg 0\n",
            "Lapse : 4\n",
            "sensory 1 msg 1\n",
            "sensory 2 msg 0\n",
            "Lapse : 5\n",
            "leaving 10sec window\n",
            "Starting new cycle\n",
            "Starting new episode\n"
          ]
        }
      ]
    }
  ],
  "metadata": {
    "colab": {
      "name": "main_v1.ipynb",
      "provenance": [],
      "mount_file_id": "https://github.com/pchodon/Amegashita/blob/basecode/main_v1.ipynb",
      "authorship_tag": "ABX9TyOp7/oseweyt9CIy56la+8B",
      "include_colab_link": true
    },
    "kernelspec": {
      "display_name": "Python 3",
      "name": "python3"
    },
    "language_info": {
      "name": "python"
    }
  },
  "nbformat": 4,
  "nbformat_minor": 0
}